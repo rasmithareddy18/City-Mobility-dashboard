{
 "cells": [
  {
   "cell_type": "code",
   "execution_count": null,
   "id": "3ace81bc-be21-4805-afe4-244669997c9b",
   "metadata": {},
   "outputs": [],
   "source": [
    "import geopandas as gpd\n",
    "import osmnx as ox\n",
    "import folium\n",
    "\n",
    "# Turn off warnings\n",
    "import warnings\n",
    "warnings.filterwarnings('ignore')\n",
    "\n",
    "# Load boundary of Hyderabad from OpenStreetMap\n",
    "hyderabad = ox.geocode_to_gdf(\"Hyderabad, India\")\n",
    "\n",
    "# Create a base map centered on Hyderabad\n",
    "center = [hyderabad.geometry.centroid.y.values[0], hyderabad.geometry.centroid.x.values[0]]\n",
    "m = folium.Map(location=center, zoom_start=12)\n",
    "\n",
    "# Add boundary outline to the map\n",
    "folium.GeoJson(hyderabad, name=\"Hyderabad Boundary\").add_to(m)\n",
    "\n",
    "m  # This line displays the interactive map"
   ]
  },
  {
   "cell_type": "code",
   "execution_count": null,
   "id": "144d777d-905a-4b2a-a9b9-daacd79ecc38",
   "metadata": {},
   "outputs": [],
   "source": [
    "import geopandas as gpd\n",
    "import folium\n",
    "import osmnx as ox\n",
    "import osmnx.features as oxf  # Corrected import\n",
    "import warnings\n",
    "warnings.filterwarnings('ignore')\n",
    "\n",
    "# Get Hyderabad boundary to center the map\n",
    "hyderabad = ox.geocode_to_gdf(\"Hyderabad, India\")\n",
    "center = [hyderabad.geometry.centroid.y.values[0], hyderabad.geometry.centroid.x.values[0]]\n",
    "\n",
    "# Get all bus stops from OSM\n",
    "tags = {\"highway\": \"bus_stop\"}\n",
    "bus_stops = oxf.features_from_place(\"Hyderabad, India\", tags)\n",
    "\n",
    "# Filter to keep only Point geometries\n",
    "bus_stops = bus_stops[bus_stops.geometry.type == \"Point\"]\n",
    "\n",
    "# Show how many bus stops were found\n",
    "print(f\"Found {len(bus_stops)} bus stops.\")\n",
    "\n",
    "# Create a base map\n",
    "m = folium.Map(location=center, zoom_start=12)\n",
    "\n",
    "# Add Hyderabad boundary\n",
    "folium.GeoJson(hyderabad, name=\"Hyderabad Boundary\").add_to(m)\n",
    "\n",
    "# Add bus stops as blue dots\n",
    "for _, row in bus_stops.iterrows():\n",
    "    lat, lon = row.geometry.y, row.geometry.x\n",
    "    folium.CircleMarker(location=[lat, lon], radius=2, color=\"blue\", fill=True).add_to(m)\n",
    "\n",
    "m"
   ]
  },
  {
   "cell_type": "code",
   "execution_count": null,
   "id": "21d19199-e794-42c0-979b-71d2660e0396",
   "metadata": {},
   "outputs": [],
   "source": [
    "# Add bus stops to folium map\n",
    "for _, row in bus_stops.iterrows():\n",
    "    lat, lon = row.geometry.y, row.geometry.x\n",
    "    folium.CircleMarker(location=[lat, lon], radius=2, color=\"blue\", fill=True).add_to(m)\n",
    "\n",
    "m"
   ]
  },
  {
   "cell_type": "code",
   "execution_count": null,
   "id": "6e64202f-d067-458f-8e05-a45f1cf0fe99",
   "metadata": {},
   "outputs": [],
   "source": [
    "# Get road network\n",
    "G = ox.graph_from_place(\"Hyderabad, India\", network_type=\"drive\")\n",
    "edges = ox.graph_to_gdfs(G, nodes=False)\n",
    "\n",
    "# Add roads to map\n",
    "folium.GeoJson(edges, name=\"Roads\", style_function=lambda x: {\"color\": \"black\", \"weight\": 0.5}).add_to(m)\n",
    "\n",
    "m"
   ]
  },
  {
   "cell_type": "code",
   "execution_count": null,
   "id": "5eba2ea3-aaf0-4082-8a00-53d45ebd021e",
   "metadata": {},
   "outputs": [],
   "source": [
    "# Total length of all roads (in km)\n",
    "edges[\"length_km\"] = edges[\"length\"] / 1000\n",
    "total_length = edges[\"length_km\"].sum()\n",
    "print(f\"Total road length in Hyderabad: {total_length:.2f} km\")"
   ]
  },
  {
   "cell_type": "code",
   "execution_count": null,
   "id": "772ce488-6356-499f-aecb-19d2feca5fc9",
   "metadata": {},
   "outputs": [],
   "source": [
    "import osmnx as ox\n",
    "\n",
    "# Download the road network for Hyderabad\n",
    "G = ox.graph_from_place(\"Hyderabad, India\", network_type=\"drive\")\n",
    "\n",
    "# Convert to GeoDataFrame (edges are road segments)\n",
    "edges = ox.graph_to_gdfs(G, nodes=False)\n",
    "\n",
    "# Calculate length of each road in kilometers\n",
    "edges[\"length_km\"] = edges[\"length\"] / 1000"
   ]
  },
  {
   "cell_type": "code",
   "execution_count": null,
   "id": "d57a8882-3192-41ac-9484-9e0206cc4e94",
   "metadata": {},
   "outputs": [],
   "source": [
    "edges = edges.to_crs(wards.crs)"
   ]
  },
  {
   "cell_type": "code",
   "execution_count": null,
   "id": "54adc4bf-46b4-42ba-97b9-0623a8af5287",
   "metadata": {},
   "outputs": [],
   "source": [
    "print(wards.columns)"
   ]
  },
  {
   "cell_type": "code",
   "execution_count": null,
   "id": "a3734057-b317-452a-8e21-e5dd7efc1a94",
   "metadata": {},
   "outputs": [],
   "source": [
    "import geopandas as gpd\n",
    "\n",
    "# Load GHMC ward boundaries\n",
    "wards = gpd.read_file(\"C:\\\\Users\\\\RASMITHA\\\\City_mobility_dashboard_hyderabad\\\\data\\\\ghmc-wards.kml\")  # update path if needed\n",
    "\n",
    "# Reproject the road edges and wards to the same CRS (Coordinate Reference System)\n",
    "edges = edges.to_crs(wards.crs)\n",
    "\n",
    "# Spatial join: assign roads to the ward they intersect\n",
    "joined = gpd.sjoin(edges, wards, how=\"inner\", predicate=\"intersects\")\n",
    "\n",
    "# Group by 'Name' (the ward name), calculate total road length\n",
    "road_per_ward = joined.groupby(\"Name\")[\"length_km\"].sum().reset_index()\n",
    "\n",
    "# Merge road length data back into the ward polygons\n",
    "wards = wards.merge(road_per_ward, on=\"Name\", how=\"left\")\n",
    "\n",
    "# Fill any missing values with 0\n",
    "wards[\"length_km\"] = wards[\"length_km\"].fillna(0)"
   ]
  },
  {
   "cell_type": "code",
   "execution_count": null,
   "id": "cb9c5f9b-9c61-42c4-b596-d9bb65fe66f9",
   "metadata": {},
   "outputs": [],
   "source": [
    "import folium\n",
    "from folium.features import GeoJsonTooltip\n",
    "\n",
    "# Create a base map centered on Hyderabad\n",
    "m = folium.Map(location=[17.385, 78.4867], zoom_start=11)\n",
    "\n",
    "# Add choropleth layer with road length per ward\n",
    "folium.Choropleth(\n",
    "    geo_data=wards,\n",
    "    name=\"choropleth\",\n",
    "    data=wards,\n",
    "    columns=[\"Name\", \"length_km\"],\n",
    "    key_on=\"feature.properties.Name\",\n",
    "    fill_color=\"YlGnBu\",\n",
    "    fill_opacity=0.7,\n",
    "    line_opacity=0.3,\n",
    "    legend_name=\"Total Road Length per Ward (km)\",\n",
    "    nan_fill_color=\"lightgrey\",\n",
    ").add_to(m)\n",
    "\n",
    "# Add interactive tooltip on hover\n",
    "tooltip = GeoJsonTooltip(fields=[\"Name\", \"length_km\"],\n",
    "                         aliases=[\"Ward:\", \"Road Length (km):\"],\n",
    "                         localize=True)\n",
    "\n",
    "folium.GeoJson(\n",
    "    wards,\n",
    "    tooltip=tooltip,\n",
    "    name=\"Wards\"\n",
    ").add_to(m)\n",
    "\n",
    "# Add layer control\n",
    "folium.LayerControl().add_to(m)\n",
    "\n",
    "# Display map\n",
    "m"
   ]
  },
  {
   "cell_type": "code",
   "execution_count": null,
   "id": "38061dfd-dcea-456d-b7f8-be778813e157",
   "metadata": {},
   "outputs": [],
   "source": []
  }
 ],
 "metadata": {
  "kernelspec": {
   "display_name": "Python (urban-access)",
   "language": "python",
   "name": "urban-access"
  },
  "language_info": {
   "codemirror_mode": {
    "name": "ipython",
    "version": 3
   },
   "file_extension": ".py",
   "mimetype": "text/x-python",
   "name": "python",
   "nbconvert_exporter": "python",
   "pygments_lexer": "ipython3",
   "version": "3.12.7"
  }
 },
 "nbformat": 4,
 "nbformat_minor": 5
}
